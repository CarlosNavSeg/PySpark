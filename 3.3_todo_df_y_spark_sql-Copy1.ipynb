{
 "cells": [
  {
   "cell_type": "markdown",
   "id": "f1ca568a-5dcf-4cff-8298-6d1232e217b5",
   "metadata": {},
   "source": [
    "# 3 Spark DataFrame y Spark SQL\n",
    "\n",
    "\n",
    "\n",
    "### como se creaba un RDD\n",
    "from pyspark.sql import SparkSession\n",
    "spark = SparkSession.builder.appName(\"Spark1\").getOrCreate()\n",
    "\n",
    "<b>rdd = spark.sparkContext.parallelize([1,2,3,4,5,6])\n",
    "</b>\n",
    "\n",
    "## como creamos un Dataframe\n",
    "from pyspark.sql import SparkSession\n",
    "spark = SparkSession.builder.appName(\"Spark3\").getOrCreate()\n",
    "\n",
    "<b>df = spark.read.options(header='True', inferSchema='True').csv(\"./datos/2019-Nov.csv\")\n",
    "</b>\n",
    "\n",
    "\n",
    "\n",
    "- ejemplo de Data Frame y Spark SQL con python\n",
    "\n",
    "\n",
    "- Descargamos los datos de una tienda de cosmetico 2,5GB partidos en 5 ficheros \n",
    "https://www.kaggle.com/mkechinov/ecommerce-events-history-in-cosmetics-shop\n",
    "\n",
    "\n"
   ]
  },
  {
   "cell_type": "code",
   "execution_count": 11,
   "id": "a59c5373-1be8-479e-96a8-f587471b3af6",
   "metadata": {},
   "outputs": [
    {
     "name": "stdout",
     "output_type": "stream",
     "text": [
      "<pyspark.sql.session.SparkSession object at 0x7f8f700892d0>\n"
     ]
    },
    {
     "name": "stderr",
     "output_type": "stream",
     "text": [
      "                                                                                \r"
     ]
    }
   ],
   "source": [
    "\n",
    "from pyspark.sql import SparkSession\n",
    "spark = SparkSession.builder.appName(\"Spark3\").getOrCreate()\n",
    "print(spark)\n",
    "\n",
    "\n",
    "\n",
    "df = spark.read.options(header='True', inferSchema='True').csv(\"./datos/*.csv\")\n",
    "\n",
    "\n",
    "\n"
   ]
  },
  {
   "cell_type": "code",
   "execution_count": 12,
   "id": "2a203caf-909b-4e80-9768-69eeb57f30e7",
   "metadata": {},
   "outputs": [
    {
     "name": "stderr",
     "output_type": "stream",
     "text": [
      "                                                                                \r"
     ]
    },
    {
     "data": {
      "text/plain": [
       "20692840"
      ]
     },
     "execution_count": 12,
     "metadata": {},
     "output_type": "execute_result"
    }
   ],
   "source": [
    "#contamos el numero de registros\n",
    "df.count()"
   ]
  },
  {
   "cell_type": "code",
   "execution_count": 13,
   "id": "ee55149a-52d0-4ec7-b048-c7ebfba4c6da",
   "metadata": {},
   "outputs": [
    {
     "name": "stdout",
     "output_type": "stream",
     "text": [
      "root\n",
      " |-- event_time: string (nullable = true)\n",
      " |-- event_type: string (nullable = true)\n",
      " |-- product_id: integer (nullable = true)\n",
      " |-- category_id: long (nullable = true)\n",
      " |-- category_code: string (nullable = true)\n",
      " |-- brand: string (nullable = true)\n",
      " |-- price: double (nullable = true)\n",
      " |-- user_id: integer (nullable = true)\n",
      " |-- user_session: string (nullable = true)\n",
      "\n"
     ]
    }
   ],
   "source": [
    "#sacamos la estructura de los datos\n",
    "df.printSchema()"
   ]
  },
  {
   "cell_type": "code",
   "execution_count": 15,
   "id": "d35b63a3-5add-4ff2-a96a-f307d5be3442",
   "metadata": {},
   "outputs": [
    {
     "data": {
      "text/plain": [
       "[Row(event_time='2019-12-01 00:00:02 UTC', event_type='cart', product_id=4958, category_id=1487580009471148064, category_code=None, brand='runail', price=1.19, user_id=494077766, user_session='c99a50e8-2fac-4c4d-89ec-41c05f114554'),\n",
       " Row(event_time='2019-12-01 00:00:34 UTC', event_type='cart', product_id=5335, category_id=1487580009605365797, category_code=None, brand='runail', price=0.4, user_id=494077766, user_session='c99a50e8-2fac-4c4d-89ec-41c05f114554')]"
      ]
     },
     "execution_count": 15,
     "metadata": {},
     "output_type": "execute_result"
    }
   ],
   "source": [
    "#mostramos los primeros elementos\n",
    "#filter , head\n",
    "\n",
    "df.head(2)\n",
    "df.filter(\"event_type='cart'\").filter(\"brand='runail'\").head(2)"
   ]
  },
  {
   "cell_type": "code",
   "execution_count": 20,
   "id": "f1c3527d-01a4-41c9-a3b4-ffc21d235d0e",
   "metadata": {},
   "outputs": [
    {
     "name": "stderr",
     "output_type": "stream",
     "text": [
      "[Stage 54:=====================================================>  (18 + 1) / 19]\r"
     ]
    },
    {
     "name": "stdout",
     "output_type": "stream",
     "text": [
      "+----------------+\n",
      "|      event_type|\n",
      "+----------------+\n",
      "|        purchase|\n",
      "|            view|\n",
      "|            cart|\n",
      "|remove_from_cart|\n",
      "+----------------+\n",
      "\n"
     ]
    },
    {
     "name": "stderr",
     "output_type": "stream",
     "text": [
      "\r",
      "                                                                                \r"
     ]
    }
   ],
   "source": [
    "#buscamos todos los tipos de eventos\n",
    "#select, distinct\n",
    "\n",
    "\n",
    "tipos_eventos= df.select(\"event_type\").distinct()\n",
    "\n",
    "\n",
    "df.select(\"event_type\").distinct().show()\n",
    "\n",
    "\n"
   ]
  },
  {
   "cell_type": "code",
   "execution_count": 7,
   "id": "8ec08be1-f0e2-4e2c-a7b5-0dc896f1df8d",
   "metadata": {},
   "outputs": [
    {
     "name": "stderr",
     "output_type": "stream",
     "text": [
      "[Stage 16:===============================================>        (16 + 3) / 19]\r"
     ]
    },
    {
     "name": "stdout",
     "output_type": "stream",
     "text": [
      "+------------+\n",
      "|       brand|\n",
      "+------------+\n",
      "|     beautix|\n",
      "|     farmona|\n",
      "|  dr.gloderm|\n",
      "|   profhenna|\n",
      "|    bioderma|\n",
      "|     philips|\n",
      "|invisibobble|\n",
      "|       riche|\n",
      "|        nova|\n",
      "|        oniq|\n",
      "|    lebelage|\n",
      "|     vilenta|\n",
      "|       fancy|\n",
      "|      jaguar|\n",
      "|      tertio|\n",
      "|    siberina|\n",
      "|   koreatida|\n",
      "|         jas|\n",
      "|rocknailstar|\n",
      "|   depilflax|\n",
      "+------------+\n",
      "only showing top 20 rows\n",
      "\n"
     ]
    },
    {
     "name": "stderr",
     "output_type": "stream",
     "text": [
      "                                                                                \r"
     ]
    }
   ],
   "source": [
    "#buscamos todas las marcas distintas\n",
    "\n",
    "marcas_distintas = df.select('brand').distinct()\n",
    "marcas_distintas.show()\n"
   ]
  },
  {
   "cell_type": "code",
   "execution_count": 27,
   "id": "e5e91b57-f107-436b-bbce-b77e80d5891a",
   "metadata": {},
   "outputs": [
    {
     "name": "stderr",
     "output_type": "stream",
     "text": [
      "                                                                                \r"
     ]
    },
    {
     "data": {
      "text/plain": [
       "4535942"
      ]
     },
     "execution_count": 27,
     "metadata": {},
     "output_type": "execute_result"
    }
   ],
   "source": [
    "#buscamos todas sesiones \n",
    "seasons = df.select('user_session').distinct()\n",
    "seasons.count()\n",
    "\n"
   ]
  },
  {
   "cell_type": "code",
   "execution_count": 38,
   "id": "1b3b939a-8f5a-4672-8171-083ee83749dc",
   "metadata": {},
   "outputs": [
    {
     "name": "stderr",
     "output_type": "stream",
     "text": [
      "                                                                                \r"
     ]
    },
    {
     "name": "stdout",
     "output_type": "stream",
     "text": [
      "+----------+\n",
      "|product_id|\n",
      "+----------+\n",
      "|   5815137|\n",
      "|   5670719|\n",
      "|   5574996|\n",
      "|   5900643|\n",
      "|   5863096|\n",
      "|   5834157|\n",
      "|   5823267|\n",
      "|   5868397|\n",
      "|   5809871|\n",
      "|   5814871|\n",
      "|   5885863|\n",
      "|     59990|\n",
      "|   5837927|\n",
      "|   5695639|\n",
      "|   5767927|\n",
      "|   5859171|\n",
      "|   5563822|\n",
      "|   5744098|\n",
      "|   5908237|\n",
      "|   5890174|\n",
      "+----------+\n",
      "only showing top 20 rows\n",
      "\n"
     ]
    },
    {
     "name": "stderr",
     "output_type": "stream",
     "text": [
      "                                                                                \r"
     ]
    },
    {
     "data": {
      "text/plain": [
       "40777"
      ]
     },
     "execution_count": 38,
     "metadata": {},
     "output_type": "execute_result"
    }
   ],
   "source": [
    "#al ser una tienda y tener listado de compras, podemos sacar listados de produyctos relacionados\n",
    "\n",
    "#primero scamos dotos los podructos que se hayan comprado\n",
    "\n",
    "compras = df.select('product_id').where(\"event_type='purchase'\").distinct()\n",
    "compras.show()\n",
    "compras.count()"
   ]
  },
  {
   "cell_type": "code",
   "execution_count": 42,
   "id": "86de8709",
   "metadata": {},
   "outputs": [
    {
     "name": "stderr",
     "output_type": "stream",
     "text": [
      "                                                                                \r"
     ]
    },
    {
     "data": {
      "text/plain": [
       "5763384"
      ]
     },
     "execution_count": 42,
     "metadata": {},
     "output_type": "execute_result"
    }
   ],
   "source": [
    "# dado el producto 5844397\n",
    "# obtengo todas las sesiones de compra que contengan dicho producto\n",
    "\n",
    "#buscamos los procutos que se hayan comprado en dichas sesiones\n",
    "#isin\n",
    "\n",
    "sessions=df.select([\"user_session\"]).filter(\"event_type='cart'AND product_id = 5844397\").distinct()\n",
    "#sessions=df.select([\"user_session\"]).filter(\"event_type='cart'\").filter(\"product_id = 5844397\").distinct()\n",
    "sessions.count()\n",
    "productos = df.select([\"product_id\"]).filter(\"event_type='cart'AND product_id <> 5844397\").filter(df[\"user_session\"].isin(sessions[\"user_session\"]))\n",
    "productos.count()"
   ]
  },
  {
   "cell_type": "code",
   "execution_count": 44,
   "id": "5935e3aa-5384-4dcd-b2b9-2dafb966a688",
   "metadata": {},
   "outputs": [
    {
     "name": "stderr",
     "output_type": "stream",
     "text": [
      "                                                                                \r"
     ]
    }
   ],
   "source": [
    "productos.write.mode(\"overwrite\").csv(\"./datos/products_related\")"
   ]
  },
  {
   "cell_type": "code",
   "execution_count": 23,
   "id": "4a2ea2a6-011e-4376-b0a9-0d773a329938",
   "metadata": {},
   "outputs": [
    {
     "name": "stderr",
     "output_type": "stream",
     "text": [
      "[Stage 46:===============================================>        (16 + 3) / 19]\r"
     ]
    },
    {
     "name": "stdout",
     "output_type": "stream",
     "text": [
      "+---------+-------+\n",
      "|    brand|  count|\n",
      "+---------+-------+\n",
      "|     null|2493706|\n",
      "|   runail| 491818|\n",
      "|    irisk| 333316|\n",
      "|   masura| 247038|\n",
      "|  grattol| 217364|\n",
      "|bpw.style| 132954|\n",
      "| ingarden| 124240|\n",
      "|    estel|  86678|\n",
      "|   kapous|  72096|\n",
      "|freedecor|  70450|\n",
      "|      uno|  67375|\n",
      "|  italwax|  65230|\n",
      "|     pole|  57508|\n",
      "|  bluesky|  57112|\n",
      "| haruyama|  55183|\n",
      "|     milv|  50832|\n",
      "|    domix|  47257|\n",
      "| nagaraku|  44856|\n",
      "| jessnail|  43233|\n",
      "|  concept|  42893|\n",
      "+---------+-------+\n",
      "only showing top 20 rows\n",
      "\n"
     ]
    },
    {
     "name": "stderr",
     "output_type": "stream",
     "text": [
      "                                                                                \r"
     ]
    }
   ],
   "source": [
    "carrito = df.filter(col(\"event_type\") == \"cart\")\n",
    "\n",
    "marcas_por_carrito = carrito.groupBy(\"brand\").count().orderBy(col(\"count\").desc())\n",
    "\n",
    "marcas_por_carrito.show()"
   ]
  },
  {
   "cell_type": "markdown",
   "id": "d14392e1-73af-43e7-a5a5-6297fb21174d",
   "metadata": {},
   "source": [
    "# Con Data frame tambien podemos trabajar con la api de SQL\n",
    "\n",
    "Las consultas SQL no funcionan con RDD"
   ]
  },
  {
   "cell_type": "code",
   "execution_count": 24,
   "id": "a4177d76-ebca-4066-b1c5-2e9e4f062bca",
   "metadata": {},
   "outputs": [
    {
     "name": "stdout",
     "output_type": "stream",
     "text": [
      "+--------------------+----------------+----------+-------------------+-------------+------+-----+---------+--------------------+\n",
      "|          event_time|      event_type|product_id|        category_id|category_code| brand|price|  user_id|        user_session|\n",
      "+--------------------+----------------+----------+-------------------+-------------+------+-----+---------+--------------------+\n",
      "|2019-12-01 00:00:...|remove_from_cart|   5712790|1487580005268456287|         null| f.o.x| 6.27|576802932|51d85cb0-897f-48d...|\n",
      "|2019-12-01 00:00:...|            view|   5764655|1487580005411062629|         null|   cnd|29.05|412120092|8adff31e-2051-489...|\n",
      "|2019-12-01 00:00:...|            cart|      4958|1487580009471148064|         null|runail| 1.19|494077766|c99a50e8-2fac-4c4...|\n",
      "+--------------------+----------------+----------+-------------------+-------------+------+-----+---------+--------------------+\n",
      "\n"
     ]
    }
   ],
   "source": [
    "df.createOrReplaceTempView(\"data\")\n",
    "spark.sql(\"select * from data limit 3\").show()"
   ]
  },
  {
   "cell_type": "code",
   "execution_count": 25,
   "id": "189177b6-052e-4602-92f6-d84c6873b24c",
   "metadata": {},
   "outputs": [
    {
     "name": "stdout",
     "output_type": "stream",
     "text": [
      "+--------------------+----------+----------+-------------------+-------------+------+-----+---------+--------------------+\n",
      "|          event_time|event_type|product_id|        category_id|category_code| brand|price|  user_id|        user_session|\n",
      "+--------------------+----------+----------+-------------------+-------------+------+-----+---------+--------------------+\n",
      "|2019-12-01 00:00:...|      cart|      4958|1487580009471148064|         null|runail| 1.19|494077766|c99a50e8-2fac-4c4...|\n",
      "|2019-12-01 00:00:...|      cart|   5629988|1487580009311764506|         null|  null| 1.19|579966747|1512be50-d0fd-4a9...|\n",
      "|2019-12-01 00:00:...|      cart|      5335|1487580009605365797|         null|runail|  0.4|494077766|c99a50e8-2fac-4c4...|\n",
      "+--------------------+----------+----------+-------------------+-------------+------+-----+---------+--------------------+\n",
      "\n"
     ]
    }
   ],
   "source": [
    "spark.sql(\"select * from data where event_type='cart' limit 3\").show()"
   ]
  },
  {
   "cell_type": "code",
   "execution_count": 30,
   "id": "c657177a-333d-4864-82f8-def93bfcaecb",
   "metadata": {},
   "outputs": [
    {
     "name": "stderr",
     "output_type": "stream",
     "text": [
      "[Stage 58:===============================================>        (16 + 3) / 19]\r"
     ]
    },
    {
     "name": "stdout",
     "output_type": "stream",
     "text": [
      "+--------+\n",
      "|count(1)|\n",
      "+--------+\n",
      "| 5768333|\n",
      "+--------+\n",
      "\n"
     ]
    },
    {
     "name": "stderr",
     "output_type": "stream",
     "text": [
      "                                                                                \r"
     ]
    }
   ],
   "source": [
    "spark.sql(\"select count(*) from data where event_type='cart'\").show()"
   ]
  },
  {
   "cell_type": "code",
   "execution_count": 29,
   "id": "8f5dbf0c-cff7-496f-adeb-a29a2643bdec",
   "metadata": {},
   "outputs": [
    {
     "name": "stderr",
     "output_type": "stream",
     "text": [
      "[Stage 56:===============================================>        (16 + 3) / 19]\r"
     ]
    },
    {
     "name": "stdout",
     "output_type": "stream",
     "text": [
      "+-------+\n",
      "|  total|\n",
      "+-------+\n",
      "|5768333|\n",
      "+-------+\n",
      "\n"
     ]
    },
    {
     "name": "stderr",
     "output_type": "stream",
     "text": [
      "                                                                                \r"
     ]
    }
   ],
   "source": [
    "spark.sql(\"select count(*) as total from data where event_type='cart'\").show()"
   ]
  },
  {
   "cell_type": "code",
   "execution_count": 31,
   "id": "6cc6c294-31e4-447b-afc3-f0cffa0b0ab7",
   "metadata": {},
   "outputs": [
    {
     "name": "stderr",
     "output_type": "stream",
     "text": [
      "[Stage 60:===============================================>        (16 + 3) / 19]\r"
     ]
    },
    {
     "name": "stdout",
     "output_type": "stream",
     "text": [
      "+------------+-----+\n",
      "|       brand|total|\n",
      "+------------+-----+\n",
      "|     beautix|26468|\n",
      "|     farmona| 1430|\n",
      "|  dr.gloderm|  515|\n",
      "|   profhenna| 2051|\n",
      "|    bioderma|  120|\n",
      "|     philips|   58|\n",
      "|       riche|  527|\n",
      "|        oniq|26562|\n",
      "|    lebelage| 1237|\n",
      "|     vilenta| 1613|\n",
      "|       fancy|  357|\n",
      "|    siberina| 3307|\n",
      "|      jaguar| 1298|\n",
      "|      tertio| 1755|\n",
      "|   koreatida|   90|\n",
      "|         jas| 3327|\n",
      "|rocknailstar|   16|\n",
      "|   depilflax| 8758|\n",
      "|protokeratin|  801|\n",
      "|     relouis| 2948|\n",
      "+------------+-----+\n",
      "only showing top 20 rows\n",
      "\n"
     ]
    },
    {
     "name": "stderr",
     "output_type": "stream",
     "text": [
      "                                                                                \r"
     ]
    }
   ],
   "source": [
    "resultado_sql = spark.sql(\"\"\"\n",
    "    SELECT brand, COUNT(*) AS total\n",
    "    FROM data\n",
    "    WHERE event_type='cart'\n",
    "    GROUP BY brand\n",
    "\"\"\")\n",
    "\n",
    "\n",
    "resultado_sql.show()\n"
   ]
  },
  {
   "cell_type": "code",
   "execution_count": null,
   "id": "74cbc6cd-b1f5-4bd6-b9b7-7424d894de97",
   "metadata": {},
   "outputs": [],
   "source": []
  }
 ],
 "metadata": {
  "kernelspec": {
   "display_name": "Python 3 (ipykernel)",
   "language": "python",
   "name": "python3"
  },
  "language_info": {
   "codemirror_mode": {
    "name": "ipython",
    "version": 3
   },
   "file_extension": ".py",
   "mimetype": "text/x-python",
   "name": "python",
   "nbconvert_exporter": "python",
   "pygments_lexer": "ipython3",
   "version": "3.10.12"
  }
 },
 "nbformat": 4,
 "nbformat_minor": 5
}
